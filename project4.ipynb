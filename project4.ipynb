{
 "cells": [
  {
   "cell_type": "code",
   "execution_count": 46,
   "metadata": {},
   "outputs": [],
   "source": [
    "import pandas as pd\n",
    "import numpy as np\n",
    "import matplotlib.pyplot as plt\n",
    "import seaborn as sns\n",
    "import os\n",
    "import math\n",
    "from sklearn.model_selection import train_test_split, KFold\n",
    "from sklearn.metrics import precision_score, recall_score, f1_score, precision_recall_fscore_support\n",
    "from sklearn.tree import DecisionTreeClassifier\n",
    "from sklearn.base import BaseEstimator, ClassifierMixin\n",
    "from sklearn.utils.validation import check_X_y, check_array, check_is_fitted\n",
    "from sklearn.preprocessing import StandardScaler"
   ]
  },
  {
   "cell_type": "markdown",
   "metadata": {},
   "source": [
    "### Part 1: Cleveland Heart Attack Dataset"
   ]
  },
  {
   "cell_type": "code",
   "execution_count": 47,
   "metadata": {},
   "outputs": [],
   "source": [
    "def load_cleveland_data(file_path):\n",
    "    data = pd.read_csv(file_path)\n",
    "    data['disease'] = data.num.apply(lambda x: min(x,1))\n",
    "    \n",
    "    for col in data.columns:\n",
    "        data[col] = pd.to_numeric(data[col], errors='coerce')\n",
    "        \n",
    "    data = data.drop('num', axis=1)\n",
    "    data = data.dropna()\n",
    "\n",
    "    X = data.drop('disease', axis=1)\n",
    "    y = data['disease']\n",
    "    \n",
    "    scaler = StandardScaler()\n",
    "    X_scaled = scaler.fit_transform(X)\n",
    "    \n",
    "    X_scaled_df = pd.DataFrame(X_scaled, columns=X.columns, index=X.index)\n",
    "    \n",
    "    return X_scaled_df.values, y.values, X.columns\n"
   ]
  },
  {
   "cell_type": "code",
   "execution_count": 48,
   "metadata": {},
   "outputs": [],
   "source": [
    "class kNN(BaseEstimator, ClassifierMixin):\n",
    "    def __init__(self, k=3, feature_mask=None):\n",
    "        self.k = k\n",
    "        self.feature_mask = feature_mask\n",
    "\n",
    "    def fit(self, X, y):\n",
    "        X, y = check_X_y(X, y)\n",
    "        if self.feature_mask is not None:\n",
    "            X = X[:, self.feature_mask]\n",
    "        self.X_ = X\n",
    "        self.y_ = y\n",
    "        self.classes_ = np.unique(y)\n",
    "        return self\n",
    "\n",
    "    def predict(self, X):\n",
    "        check_is_fitted(self)\n",
    "        X = check_array(X)\n",
    "        if self.feature_mask is not None:\n",
    "            X = X[:, self.feature_mask]\n",
    "        return np.array([self._predict(x) for x in X])\n",
    "\n",
    "    def _predict(self, x):\n",
    "        distances = [np.sqrt(np.sum((x - x_train) ** 2)) for x_train in self.X_]\n",
    "        k_indices = np.argsort(distances)[:self.k]\n",
    "        k_nearest_labels = [self.y_[i] for i in k_indices]\n",
    "        return np.argmax(np.bincount(k_nearest_labels))"
   ]
  },
  {
   "cell_type": "code",
   "execution_count": 49,
   "metadata": {},
   "outputs": [],
   "source": [
    "def cross_validate(X, y, k, feature_mask, n_splits=10):\n",
    "    kf = KFold(n_splits=n_splits, shuffle=True, random_state=42)\n",
    "    \n",
    "    f1_scores = []\n",
    "    precisions = []\n",
    "    recalls = []\n",
    "    \n",
    "    for train_index, test_index in kf.split(X):\n",
    "        X_train, X_test = X[train_index], X[test_index]\n",
    "        y_train, y_test = y[train_index], y[test_index]\n",
    "        \n",
    "        model = kNN(k=k, feature_mask=feature_mask)\n",
    "        model.fit(X_train, y_train)\n",
    "        y_pred = model.predict(X_test)\n",
    "        \n",
    "        f1_scores.append(f1_score(y_test, y_pred))\n",
    "        precisions.append(precision_score(y_test, y_pred))\n",
    "        recalls.append(recall_score(y_test, y_pred))\n",
    "        \n",
    "        # print(f\"Fold - Precision: {precisions[-1]:.3f}, Recall: {recalls[-1]:.3f}, F1: {f1_scores[-1]:.3f}\")\n",
    "    \n",
    "    return f1_scores, precisions, recalls"
   ]
  },
  {
   "cell_type": "code",
   "execution_count": 50,
   "metadata": {},
   "outputs": [],
   "source": [
    "def feature_importance(X, y, feature_names):\n",
    "    dt = DecisionTreeClassifier(random_state=42)\n",
    "    dt.fit(X, y)\n",
    "    importances = dt.feature_importances_\n",
    "    feature_importance = pd.Series(importances, index=feature_names).sort_values(ascending=False)\n",
    "    return feature_importance"
   ]
  },
  {
   "cell_type": "code",
   "execution_count": 51,
   "metadata": {},
   "outputs": [],
   "source": [
    "def plot_feature_separability(ax, X, y, feature_name, feature_names):\n",
    "    # Get the index of the feature\n",
    "    feature_index = list(feature_names).index(feature_name)\n",
    "    \n",
    "    # Separate the feature values for each class\n",
    "    feature_values_0 = X[y == 0, feature_index]\n",
    "    feature_values_1 = X[y == 1, feature_index]\n",
    "    \n",
    "    # Plot histograms\n",
    "    sns.histplot(feature_values_0, kde=True, color='blue', alpha=0.5, label='No Heart Disease', ax=ax)\n",
    "    sns.histplot(feature_values_1, kde=True, color='red', alpha=0.5, label='Heart Disease', ax=ax)\n",
    "    \n",
    "    ax.set_title(f'Distribution of {feature_name}')\n",
    "    ax.set_xlabel(feature_name)\n",
    "    ax.set_ylabel('Density')\n",
    "    ax.legend()\n",
    "\n",
    "def plot_multiple_features(X, y, feature_names, selected_features, save_dir='plots', filename='feature_distributions.png'):\n",
    "    # Calculate grid dimensions\n",
    "    n_features = len(selected_features)\n",
    "    n_cols = min(3, n_features)  # Max 3 columns\n",
    "    n_rows = math.ceil(n_features / n_cols)\n",
    "    \n",
    "    # Create subplots\n",
    "    fig, axes = plt.subplots(n_rows, n_cols, figsize=(5*n_cols, 4*n_rows))\n",
    "    fig.suptitle('Feature Distributions for Each Class', fontsize=16)\n",
    "    \n",
    "    # Flatten axes\n",
    "    axes = axes.flatten() if n_features > 1 else [axes]\n",
    "    \n",
    "    for i, feature in enumerate(selected_features):\n",
    "        plot_feature_separability(axes[i], X, y, feature, feature_names)\n",
    "    \n",
    "    # Remove any unused subplots\n",
    "    for j in range(i+1, len(axes)):\n",
    "        fig.delaxes(axes[j])\n",
    "    \n",
    "    plt.tight_layout()\n",
    "    \n",
    "    os.makedirs(save_dir, exist_ok=True)\n",
    "    \n",
    "    # Save the plot\n",
    "    full_path = os.path.join(save_dir, filename)\n",
    "    plt.savefig(full_path, dpi=300, bbox_inches='tight')\n",
    "    plt.show()\n",
    "    plt.close()"
   ]
  },
  {
   "cell_type": "code",
   "execution_count": 52,
   "metadata": {},
   "outputs": [],
   "source": [
    "def elbow(X, y, k_range, feature_mask, save_dir='plots', filename='elbow_plot.png'):\n",
    "    # Apply the feature mask\n",
    "    X_masked = X[:, feature_mask]\n",
    "\n",
    "    X_train, X_test, y_train, y_test = train_test_split(X_masked, y, test_size=0.2, random_state=42)\n",
    "\n",
    "    scores = []\n",
    "    for k in k_range:\n",
    "        knn = kNN(k=k)\n",
    "        knn.fit(X_train, y_train)\n",
    "        y_pred = knn.predict(X_test)\n",
    "        \n",
    "        precision, recall, f1, _ = precision_recall_fscore_support(y_test, y_pred, average='weighted')\n",
    "        scores.append((precision, recall, f1))\n",
    "\n",
    "    precisions, recalls, f1_scores = zip(*scores)\n",
    "\n",
    "    plt.figure(figsize=(10, 6))\n",
    "    plt.plot(k_range, f1_scores)\n",
    "    plt.xlabel('k')\n",
    "    plt.ylabel('F1 Score')\n",
    "    plt.title('Elbow Plot: F1 Score vs k')\n",
    "    plt.grid(True)\n",
    "\n",
    "    plt.tight_layout()\n",
    "    \n",
    "    # Create the save directory if it doesn't exist\n",
    "    os.makedirs(save_dir, exist_ok=True)\n",
    "    \n",
    "    # Save the plot\n",
    "    full_path = os.path.join(save_dir, filename)\n",
    "    plt.savefig(full_path)\n",
    "    plt.show()\n",
    "    plt.close()\n",
    "    "
   ]
  },
  {
   "cell_type": "code",
   "execution_count": null,
   "metadata": {},
   "outputs": [],
   "source": [
    "# Load the data\n",
    "X, y, feature_names = load_cleveland_data('data/cleveland.csv')\n",
    "\n",
    "importance_results = feature_importance(X, y, feature_names)\n",
    "print(\"Feature Importance:\")\n",
    "print(importance_results)"
   ]
  },
  {
   "cell_type": "code",
   "execution_count": null,
   "metadata": {},
   "outputs": [],
   "source": [
    "selected_features = ['thal', 'cp', 'ca', 'thalach', 'age']\n",
    "\n",
    "# Examine the separability of the selected features\n",
    "plot_multiple_features(X, y, feature_names, selected_features, 'plots/part1')\n",
    "\n",
    "# Create feature mask\n",
    "feature_mask = np.isin(feature_names, selected_features)"
   ]
  },
  {
   "cell_type": "code",
   "execution_count": null,
   "metadata": {},
   "outputs": [],
   "source": [
    "elbow(X, y, range(1, 250), feature_mask, 'plots/part1', 'elbow_plot.png')"
   ]
  },
  {
   "cell_type": "code",
   "execution_count": null,
   "metadata": {},
   "outputs": [],
   "source": [
    "# Set k based on our elbow plot\n",
    "k = 150\n",
    "\n",
    "# Perform cross-validation\n",
    "f1_scores, precisions, recalls = cross_validate(X, y, k, feature_mask)\n",
    "\n",
    "# Print results\n",
    "print(f\"Selected features: {selected_features}\")\n",
    "print(f\"k value: {k}\")\n",
    "print(\"\\nCross-validation results:\")\n",
    "for i in range(10):\n",
    "    print(f\"Fold {i+1}:\")\n",
    "    print(f\"  Precision: {precisions[i]:.3f}\")\n",
    "    print(f\"  Recall: {recalls[i]:.3f}\")\n",
    "    print(f\"  F1 Score: {f1_scores[i]:.3f}\")\n",
    "\n",
    "print(\"\\nMean scores:\")\n",
    "print(f\"Precision: {np.mean(precisions):.3f} (+/- {np.std(precisions):.3f})\")\n",
    "print(f\"Recall: {np.mean(recalls):.3f} (+/- {np.std(recalls):.3f})\")\n",
    "print(f\"F1 Score: {np.mean(f1_scores):.3f} (+/- {np.std(f1_scores):.3f})\")\n",
    "\n",
    "# Train a model for the test set\n",
    "final_model = kNN(k=k, feature_mask=feature_mask)\n",
    "final_model.fit(X, y)"
   ]
  },
  {
   "cell_type": "code",
   "execution_count": null,
   "metadata": {},
   "outputs": [],
   "source": [
    "# Function to predict on challenge dataset\n",
    "def predict_challenge(challenge_file, model):\n",
    "    X_challenge, y_challenge, _ = load_cleveland_data(challenge_file)\n",
    "    y_pred = model.predict(X_challenge)\n",
    "    return f1_score(y_challenge, y_pred), precision_score(y_challenge, y_pred), recall_score(y_challenge, y_pred)\n",
    "\n",
    "# Predict on the sample test dataset\n",
    "challenge = predict_challenge('data/cleveland-test-sample.csv', final_model)\n",
    "print(f\"\\nF1 Score on challenge dataset: {challenge[0]:.3f}\")\n",
    "print(f\"Precision on challenge dataset: {challenge[1]:.3f}\")\n",
    "print(f\"Recall on challenge dataset: {challenge[2]:.3f}\")"
   ]
  },
  {
   "cell_type": "markdown",
   "metadata": {},
   "source": [
    "### Part 2: CDC BRFSS 2015 Diabetes Dataset"
   ]
  },
  {
   "cell_type": "code",
   "execution_count": 58,
   "metadata": {},
   "outputs": [],
   "source": [
    "def load_diabetes_data(file_path):\n",
    "    data = pd.read_csv(file_path)\n",
    "    \n",
    "    for col in data.columns:\n",
    "        data[col] = pd.to_numeric(data[col], errors='coerce')\n",
    "        \n",
    "    data = data.dropna()\n",
    "\n",
    "    X = data.drop('Diabetes_binary', axis=1)\n",
    "    y = data['Diabetes_binary']\n",
    "    \n",
    "    scaler = StandardScaler()\n",
    "    X_scaled = scaler.fit_transform(X)\n",
    "    \n",
    "    X_scaled_df = pd.DataFrame(X_scaled, columns=X.columns, index=X.index)\n",
    "    \n",
    "    return X_scaled_df.values, y.values, X.columns"
   ]
  },
  {
   "cell_type": "code",
   "execution_count": null,
   "metadata": {},
   "outputs": [],
   "source": [
    "X, y, feature_names = load_diabetes_data('data/diabetes_sample.csv')\n",
    "X_train, X_test, y_train, y_test = train_test_split(X, y, test_size=0.2, random_state=42)\n",
    "\n",
    "importance_results = feature_importance(X_train, y_train, feature_names)\n",
    "print(\"Feature Importance:\")\n",
    "print(importance_results)"
   ]
  },
  {
   "cell_type": "code",
   "execution_count": null,
   "metadata": {},
   "outputs": [],
   "source": [
    "selected_features = ['BMI', 'GenHlth', 'PhysHlth', 'Age', 'HighBP', 'Sex', 'HvyAlcoholConsump', 'HighChol', 'Smoker', 'CholCheck']\n",
    "\n",
    "plot_multiple_features(X, y, feature_names, selected_features, 'plots/part2')\n",
    "\n",
    "# Create feature mask\n",
    "feature_mask = np.isin(feature_names, selected_features)"
   ]
  },
  {
   "cell_type": "code",
   "execution_count": null,
   "metadata": {},
   "outputs": [],
   "source": [
    "elbow(X, y, range(1, 250), feature_mask, 'plots/part2', 'elbow_plot.png')"
   ]
  },
  {
   "cell_type": "code",
   "execution_count": null,
   "metadata": {},
   "outputs": [],
   "source": [
    "# Set k based on our elbow plot\n",
    "k = 5\n",
    "\n",
    "# Perform cross-validation\n",
    "f1_scores, precisions, recalls = cross_validate(X, y, k, feature_mask)\n",
    "\n",
    "# Print results\n",
    "print(f\"Selected features: {selected_features}\")\n",
    "print(f\"k value: {k}\")\n",
    "print(\"\\nCross-validation results:\")\n",
    "for i in range(10):\n",
    "    print(f\"Fold {i+1}:\")\n",
    "    print(f\"  Precision: {precisions[i]:.3f}\")\n",
    "    print(f\"  Recall: {recalls[i]:.3f}\")\n",
    "    print(f\"  F1 Score: {f1_scores[i]:.3f}\")\n",
    "\n",
    "print(\"\\nMean scores:\")\n",
    "print(f\"Precision: {np.mean(precisions):.3f} (+/- {np.std(precisions):.3f})\")\n",
    "print(f\"Recall: {np.mean(recalls):.3f} (+/- {np.std(recalls):.3f})\")\n",
    "print(f\"F1 Score: {np.mean(f1_scores):.3f} (+/- {np.std(f1_scores):.3f})\")\n",
    "\n",
    "# Train a model for the test set\n",
    "final_model = kNN(k=k, feature_mask=feature_mask)\n",
    "final_model.fit(X, y)"
   ]
  },
  {
   "cell_type": "code",
   "execution_count": null,
   "metadata": {},
   "outputs": [],
   "source": [
    "final_predictions = final_model.predict(X_test)\n",
    "test_f1 = f1_score(y_test, final_predictions)\n",
    "test_precision = precision_score(y_test, final_predictions)\n",
    "test_recall = recall_score(y_test, final_predictions)\n",
    "\n",
    "print(\"\\nFinal model performance on test set:\")\n",
    "print(f\"F1 Score: {test_f1:.3f}\")\n",
    "print(f\"Precision: {test_precision:.3f}\")\n",
    "print(f\"Recall: {test_recall:.3f}\")"
   ]
  }
 ],
 "metadata": {
  "kernelspec": {
   "display_name": "Python 3",
   "language": "python",
   "name": "python3"
  },
  "language_info": {
   "codemirror_mode": {
    "name": "ipython",
    "version": 3
   },
   "file_extension": ".py",
   "mimetype": "text/x-python",
   "name": "python",
   "nbconvert_exporter": "python",
   "pygments_lexer": "ipython3",
   "version": "3.11.10"
  }
 },
 "nbformat": 4,
 "nbformat_minor": 2
}
