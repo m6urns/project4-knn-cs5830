{
 "cells": [
  {
   "cell_type": "code",
   "execution_count": 97,
   "metadata": {},
   "outputs": [],
   "source": [
    "import pandas as pd\n",
    "import numpy as np\n",
    "from collections import Counter\n",
    "import matplotlib.pyplot as plt\n",
    "from sklearn.model_selection import train_test_split\n",
    "from sklearn.model_selection import KFold\n",
    "from sklearn.metrics import precision_score, recall_score, f1_score\n",
    "from sklearn.tree import DecisionTreeClassifier"
   ]
  },
  {
   "cell_type": "code",
   "execution_count": 98,
   "metadata": {},
   "outputs": [],
   "source": [
    "def load_data(file_path):\n",
    "    data = pd.read_csv(file_path)\n",
    "    data['disease'] = data.num.apply(lambda x: min(x,1))\n",
    "    \n",
    "    for col in data.columns:\n",
    "        data[col] = pd.to_numeric(data[col], errors='coerce')\n",
    "        \n",
    "    data = data.drop('num', axis=1)\n",
    "    data = data.dropna()\n",
    "\n",
    "    X = data.drop('disease', axis=1)\n",
    "    y = data['disease']\n",
    "    \n",
    "    return X.values, y.values"
   ]
  },
  {
   "cell_type": "code",
   "execution_count": 99,
   "metadata": {},
   "outputs": [],
   "source": [
    "X, y = load_data('data/cleveland.csv')"
   ]
  },
  {
   "cell_type": "code",
   "execution_count": 100,
   "metadata": {},
   "outputs": [],
   "source": [
    "class kNN:\n",
    "    def __init__(self, k=3):\n",
    "        self.k = k\n",
    "\n",
    "    def fit(self, X, y):\n",
    "        self.X_train = X\n",
    "        self.y_train = y\n",
    "\n",
    "    def euclidean_distance(self, x1, x2):\n",
    "        return np.sqrt(np.sum((x1 - x2) ** 2))\n",
    "\n",
    "    def predict(self, X):\n",
    "        return np.array([self._predict(x) for x in X])\n",
    "\n",
    "    def _predict(self, x):\n",
    "        distances = [self.euclidean_distance(x, x_train) for x_train in self.X_train]\n",
    "        k_indices = np.argsort(distances)[:self.k]\n",
    "        k_nearest_labels = [self.y_train[i] for i in k_indices]\n",
    "        most_common = Counter(k_nearest_labels).most_common(1)\n",
    "        return most_common[0][0]"
   ]
  },
  {
   "cell_type": "code",
   "execution_count": 101,
   "metadata": {},
   "outputs": [],
   "source": [
    "def cross_validate(X, y, model, n_splits=10):\n",
    "    kf = KFold(n_splits=n_splits, shuffle=True, random_state=42)\n",
    "    \n",
    "    precisions = []\n",
    "    recalls = []\n",
    "    f1_scores = []\n",
    "    \n",
    "    for train_index, test_index in kf.split(X):\n",
    "        X_train, X_test = X[train_index], X[test_index]\n",
    "        y_train, y_test = y[train_index], y[test_index]\n",
    "        \n",
    "        model.fit(X_train, y_train)\n",
    "        predictions = model.predict(X_test)\n",
    "        \n",
    "        # Print precision, recall, and f1 score for each fold\n",
    "        print(\"Precision:\", precision_score(y_test, predictions), \"Recall:\", recall_score(y_test, predictions), \"F1:\", f1_score(y_test, predictions))\n",
    "        precisions.append(precision_score(y_test, predictions, zero_division=0))\n",
    "        recalls.append(recall_score(y_test, predictions, zero_division=0))\n",
    "        f1_scores.append(f1_score(y_test, predictions, zero_division=0))\n",
    "    \n",
    "    return {\n",
    "        'precision': (np.mean(precisions), np.std(precisions)),\n",
    "        'recall': (np.mean(recalls), np.std(recalls)),\n",
    "        'f1': (np.mean(f1_scores), np.std(f1_scores))\n",
    "    }"
   ]
  },
  {
   "cell_type": "code",
   "execution_count": 102,
   "metadata": {},
   "outputs": [
    {
     "name": "stdout",
     "output_type": "stream",
     "text": [
      "Precision: 0.5333333333333333 Recall: 0.7272727272727273 F1: 0.6153846153846154\n",
      "Precision: 0.6666666666666666 Recall: 0.6153846153846154 F1: 0.64\n",
      "Precision: 0.7857142857142857 Recall: 0.6470588235294118 F1: 0.7096774193548387\n",
      "Precision: 0.8 Recall: 0.6666666666666666 F1: 0.7272727272727273\n",
      "Precision: 0.6875 Recall: 0.55 F1: 0.6111111111111112\n",
      "Precision: 0.625 Recall: 0.38461538461538464 F1: 0.47619047619047616\n",
      "Precision: 0.47368421052631576 Recall: 0.75 F1: 0.5806451612903226\n",
      "Precision: 0.6363636363636364 Recall: 0.5384615384615384 F1: 0.5833333333333334\n",
      "Precision: 0.5 Recall: 0.5454545454545454 F1: 0.5217391304347826\n",
      "Precision: 0.3076923076923077 Recall: 0.4444444444444444 F1: 0.36363636363636365\n",
      "\n",
      "Mean Results for kNN:\n",
      "Precision: 0.602 (+/- 0.143)\n",
      "Recall: 0.587 (+/- 0.111)\n",
      "F1 Score: 0.583 (+/- 0.103)\n"
     ]
    }
   ],
   "source": [
    "knn = kNN(k=3)\n",
    "results = cross_validate(X, y, knn)\n",
    "print(f\"\\nMean Results for kNN:\")\n",
    "print(f\"Precision: {results['precision'][0]:.3f} (+/- {results['precision'][1]:.3f})\")\n",
    "print(f\"Recall: {results['recall'][0]:.3f} (+/- {results['recall'][1]:.3f})\")\n",
    "print(f\"F1 Score: {results['f1'][0]:.3f} (+/- {results['f1'][1]:.3f})\")"
   ]
  },
  {
   "cell_type": "code",
   "execution_count": 103,
   "metadata": {},
   "outputs": [
    {
     "name": "stdout",
     "output_type": "stream",
     "text": [
      "12    0.279725\n",
      "2     0.151193\n",
      "11    0.108062\n",
      "7     0.083773\n",
      "4     0.079608\n",
      "9     0.076073\n",
      "0     0.072169\n",
      "3     0.050094\n",
      "10    0.031960\n",
      "1     0.028341\n",
      "6     0.016259\n",
      "8     0.012420\n",
      "5     0.010323\n",
      "dtype: float64\n"
     ]
    }
   ],
   "source": [
    "def feature_importance(X, y):\n",
    "    dt = DecisionTreeClassifier(random_state=42)\n",
    "    dt.fit(X, y)\n",
    "    importances = dt.feature_importances_\n",
    "    return pd.Series(importances).sort_values(ascending=False)\n",
    "\n",
    "importance_results = feature_importance(X, y)\n",
    "\n",
    "print(importance_results)"
   ]
  }
 ],
 "metadata": {
  "kernelspec": {
   "display_name": "Python 3",
   "language": "python",
   "name": "python3"
  },
  "language_info": {
   "codemirror_mode": {
    "name": "ipython",
    "version": 3
   },
   "file_extension": ".py",
   "mimetype": "text/x-python",
   "name": "python",
   "nbconvert_exporter": "python",
   "pygments_lexer": "ipython3",
   "version": "3.11.10"
  }
 },
 "nbformat": 4,
 "nbformat_minor": 2
}
