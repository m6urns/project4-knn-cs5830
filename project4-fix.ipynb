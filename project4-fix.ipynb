{
 "cells": [
  {
   "cell_type": "code",
   "execution_count": 59,
   "metadata": {},
   "outputs": [],
   "source": [
    "import pandas as pd\n",
    "import numpy as np\n",
    "from collections import Counter\n",
    "import matplotlib.pyplot as plt\n",
    "from sklearn.model_selection import train_test_split\n",
    "from sklearn.model_selection import KFold\n",
    "from sklearn.metrics import precision_score, recall_score, f1_score"
   ]
  },
  {
   "cell_type": "code",
   "execution_count": 60,
   "metadata": {},
   "outputs": [],
   "source": [
    "def load_data(file_path):\n",
    "    data = pd.read_csv(file_path)\n",
    "    data['disease'] = data.num.apply(lambda x: min(x,1))\n",
    "    \n",
    "    for col in data.columns:\n",
    "        data[col] = pd.to_numeric(data[col], errors='coerce')\n",
    "\n",
    "    X = data.drop('disease', axis=1)\n",
    "    y = data['disease']\n",
    "    \n",
    "    return X.values, y.values"
   ]
  },
  {
   "cell_type": "code",
   "execution_count": 61,
   "metadata": {},
   "outputs": [],
   "source": [
    "X, y = load_data('data/cleveland.csv')"
   ]
  },
  {
   "cell_type": "code",
   "execution_count": 62,
   "metadata": {},
   "outputs": [],
   "source": [
    "class kNN:\n",
    "    def __init__(self, k=3):\n",
    "        self.k = k\n",
    "\n",
    "    def fit(self, X, y):\n",
    "        self.X_train = X\n",
    "        self.y_train = y\n",
    "\n",
    "    def euclidean_distance(self, x1, x2):\n",
    "        return np.sqrt(np.sum((x1 - x2) ** 2))\n",
    "\n",
    "    def predict(self, X):\n",
    "        return np.array([self._predict(x) for x in X])\n",
    "\n",
    "    def _predict(self, x):\n",
    "        distances = [self.euclidean_distance(x, x_train) for x_train in self.X_train]\n",
    "        k_indices = np.argsort(distances)[:self.k]\n",
    "        k_nearest_labels = [self.y_train[i] for i in k_indices]\n",
    "        most_common = Counter(k_nearest_labels).most_common(1)\n",
    "        return most_common[0][0]"
   ]
  },
  {
   "cell_type": "code",
   "execution_count": 63,
   "metadata": {},
   "outputs": [],
   "source": [
    "def cross_validate(X, y, model, n_splits=10):\n",
    "    kf = KFold(n_splits=n_splits, shuffle=True, random_state=42)\n",
    "    \n",
    "    precisions = []\n",
    "    recalls = []\n",
    "    f1_scores = []\n",
    "    \n",
    "    for train_index, test_index in kf.split(X):\n",
    "        X_train, X_test = X[train_index], X[test_index]\n",
    "        y_train, y_test = y[train_index], y[test_index]\n",
    "        \n",
    "        model.fit(X_train, y_train)\n",
    "        predictions = model.predict(X_test)\n",
    "        \n",
    "        # Print precision, recall, and f1 score for each fold\n",
    "        print(\"Precision:\", precision_score(y_test, predictions), \"Recall:\", recall_score(y_test, predictions), \"F1:\", f1_score(y_test, predictions))\n",
    "        precisions.append(precision_score(y_test, predictions, zero_division=0))\n",
    "        recalls.append(recall_score(y_test, predictions, zero_division=0))\n",
    "        f1_scores.append(f1_score(y_test, predictions, zero_division=0))\n",
    "    \n",
    "    return {\n",
    "        'precision': (np.mean(precisions), np.std(precisions)),\n",
    "        'recall': (np.mean(recalls), np.std(recalls)),\n",
    "        'f1': (np.mean(f1_scores), np.std(f1_scores))\n",
    "    }"
   ]
  },
  {
   "cell_type": "code",
   "execution_count": 66,
   "metadata": {},
   "outputs": [
    {
     "name": "stdout",
     "output_type": "stream",
     "text": [
      "Precision: 0.6875 Recall: 0.6111111111111112 F1: 0.6470588235294118\n",
      "Precision: 0.6153846153846154 Recall: 0.5714285714285714 F1: 0.5925925925925926\n",
      "Precision: 0.5333333333333333 Recall: 0.6153846153846154 F1: 0.5714285714285714\n",
      "Precision: 0.5882352941176471 Recall: 0.7692307692307693 F1: 0.6666666666666666\n",
      "Precision: 0.875 Recall: 0.4666666666666667 F1: 0.6086956521739131\n",
      "Precision: 0.4444444444444444 Recall: 0.36363636363636365 F1: 0.4\n",
      "Precision: 0.5 Recall: 0.5833333333333334 F1: 0.5384615384615384\n",
      "Precision: 0.6153846153846154 Recall: 0.4444444444444444 F1: 0.5161290322580645\n",
      "Precision: 0.8571428571428571 Recall: 0.5 F1: 0.631578947368421\n",
      "Precision: 0.6153846153846154 Recall: 0.6153846153846154 F1: 0.6153846153846154\n",
      "\n",
      "Mean Results for kNN:\n",
      "Precision: 0.633 (+/- 0.133)\n",
      "Recall: 0.554 (+/- 0.108)\n",
      "F1 Score: 0.579 (+/- 0.074)\n"
     ]
    }
   ],
   "source": [
    "knn = kNN(k=3)\n",
    "results = cross_validate(X, y, knn)\n",
    "print(f\"\\nMean Results for kNN:\")\n",
    "print(f\"Precision: {results['precision'][0]:.3f} (+/- {results['precision'][1]:.3f})\")\n",
    "print(f\"Recall: {results['recall'][0]:.3f} (+/- {results['recall'][1]:.3f})\")\n",
    "print(f\"F1 Score: {results['f1'][0]:.3f} (+/- {results['f1'][1]:.3f})\")"
   ]
  }
 ],
 "metadata": {
  "kernelspec": {
   "display_name": "Python 3",
   "language": "python",
   "name": "python3"
  },
  "language_info": {
   "codemirror_mode": {
    "name": "ipython",
    "version": 3
   },
   "file_extension": ".py",
   "mimetype": "text/x-python",
   "name": "python",
   "nbconvert_exporter": "python",
   "pygments_lexer": "ipython3",
   "version": "3.11.10"
  }
 },
 "nbformat": 4,
 "nbformat_minor": 2
}
